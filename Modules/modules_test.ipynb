{
 "cells": [
  {
   "cell_type": "code",
   "execution_count": 34,
   "id": "3755f4f8",
   "metadata": {},
   "outputs": [
    {
     "name": "stdout",
     "output_type": "stream",
     "text": [
      "Input shape: (10, 4)\n",
      "Output shape: (10, 4)\n",
      "Training time step 1/4\n"
     ]
    },
    {
     "name": "stderr",
     "output_type": "stream",
     "text": [
      "                                                          \r"
     ]
    },
    {
     "name": "stdout",
     "output_type": "stream",
     "text": [
      "Cost after time step 1: 0.5001024999003144\n",
      "Training time step 2/4\n"
     ]
    },
    {
     "name": "stderr",
     "output_type": "stream",
     "text": [
      "                                                          \r"
     ]
    },
    {
     "name": "stdout",
     "output_type": "stream",
     "text": [
      "Cost after time step 2: 0.007354140506856122\n",
      "Training time step 3/4\n"
     ]
    },
    {
     "name": "stderr",
     "output_type": "stream",
     "text": [
      "                                                          \r"
     ]
    },
    {
     "name": "stdout",
     "output_type": "stream",
     "text": [
      "Cost after time step 3: 0.007663404707833806\n",
      "Training time step 4/4\n"
     ]
    },
    {
     "name": "stderr",
     "output_type": "stream",
     "text": [
      "                                                          \r"
     ]
    },
    {
     "name": "stdout",
     "output_type": "stream",
     "text": [
      "Cost after time step 4: 6.312688465903996e-05\n",
      "\n",
      "Test swap test value: 0.9999368731153406\n"
     ]
    }
   ],
   "source": [
    "import pennylane as qml\n",
    "from pennylane import numpy as np\n",
    "from tqdm import tqdm\n",
    "\n",
    "from QFM import QFM\n",
    "\n",
    "random_seed = 42\n",
    "np.random.seed(random_seed)\n",
    "\n",
    "# ====== 构造测试数据 ====== \n",
    "# 两个 2-qubit 的态：|00> 和 |11>\n",
    "num_samples = 10\n",
    "n_features = 2**2  # 4\n",
    "\n",
    "# CNOT matrix for 2-qubit system\n",
    "CNOT = np.array([[1, 0, 0, 0],\n",
    "                    [0, 1, 0, 0],\n",
    "                    [0, 0, 0, 1],\n",
    "                    [0, 0, 1, 0]])\n",
    "\n",
    "# 输入态：随机扰动的 |01> + |10>\n",
    "input_states = []\n",
    "for _ in range(num_samples):\n",
    "    state = np.array([0, 1, 1, 0], dtype=float) + 0.01 * np.random.randn(4)\n",
    "    state = state / np.linalg.norm(state)\n",
    "    input_states.append(state)\n",
    "input_states = np.array(input_states)\n",
    "\n",
    "# 输出态：CNOT 作用后的态\n",
    "output_states = []\n",
    "for _ in range(num_samples):\n",
    "    state = input_states[_]\n",
    "    state = CNOT @ state\n",
    "    output_states.append(state)\n",
    "output_states = np.array(output_states)\n",
    "\n",
    "print(\"Input shape:\", input_states.shape)\n",
    "print(\"Output shape:\", output_states.shape)\n",
    "\n",
    "# ====== 实例化并训练 ====== \n",
    "model = QFM(\n",
    "    input_samples=input_states,\n",
    "    output_samples=output_states,\n",
    "    n_ancilla=2,\n",
    "    num_time_steps=4,\n",
    "    depth_per_time_step=2\n",
    ")\n",
    "\n",
    "model.fit(epochs=32, batch_size=2, learning_rate=0.05)\n",
    "\n",
    "# ====== 测试推理 ======\n",
    "x_test = np.mean(input_states, axis=0)\n",
    "y_test = np.mean(output_states, axis=0)\n",
    "\n",
    "print(\"\\nTest swap test value:\", model.circuit(model.parameters, x_test, y_test))\n"
   ]
  },
  {
   "cell_type": "code",
   "execution_count": null,
   "id": "e5496d7c",
   "metadata": {},
   "outputs": [],
   "source": []
  }
 ],
 "metadata": {
  "kernelspec": {
   "display_name": "QC",
   "language": "python",
   "name": "python3"
  },
  "language_info": {
   "codemirror_mode": {
    "name": "ipython",
    "version": 3
   },
   "file_extension": ".py",
   "mimetype": "text/x-python",
   "name": "python",
   "nbconvert_exporter": "python",
   "pygments_lexer": "ipython3",
   "version": "3.10.18"
  }
 },
 "nbformat": 4,
 "nbformat_minor": 5
}
