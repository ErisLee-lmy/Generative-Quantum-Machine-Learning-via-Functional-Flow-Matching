{
 "cells": [
  {
   "cell_type": "code",
   "execution_count": null,
   "id": "3755f4f8",
   "metadata": {},
   "outputs": [],
   "source": [
    "import pennylane as qml\n",
    "from pennylane import numpy as np\n",
    "\n",
    "def PQC(parameters, wires, time_step_index, depth=3):\n",
    "    \"\"\"Parameterized Quantum Circuit (PQC) for time evolution.\n",
    "\n",
    "    Args:\n",
    "        parameters (array[float]): Array of shape (depth, len(wires), 2) containing rotation angles.\n",
    "        wires (list[int]): List of wire indices to apply the circuit on.\n",
    "        time_step_index (int): Index of the current time step.\n",
    "        depth (int): Number of layers in the PQC.\n",
    "    \"\"\"\n",
    "    for depth_index in range(depth):\n",
    "        for wire in wires:\n",
    "            qml.RX(parameters[depth_index, wire, 0], wires=wire)\n",
    "            qml.RY(parameters[depth_index, wire, 1], wires=wire)\n",
    "        for i in range(1, len(wires)+1):\n",
    "            qml.CNOT(wires=[wires[i], wires[i - 1]])\n",
    "        qml.CNOT(wires=[wires[0], wires[-1]])\n",
    "        \n",
    "class QFM():\n",
    "    def __init__(self, input_samples, output_samples, n_ancilla=3, num_time_steps=3, depth_per_time_step=3):\n",
    "        \"\"\"Quantum Flow Model (QFM) for learning time evolution.\n",
    "\n",
    "        Args:\n",
    "            input_samples (array[float]): Array of shape (num_samples, num_wires) with initial states.\n",
    "            output_samples (array[float]): Array of shape (num_samples, num_wires) with target states.\n",
    "            num_time_steps (int): Number of time steps to model.\n",
    "            depth_per_time_step (int): Depth of the PQC for each time step.\n",
    "        \"\"\"\n",
    "        \n",
    "        self.input_samples = input_samples\n",
    "        self.output_samples = output_samples\n",
    "        self.num_time_steps = num_time_steps\n",
    "        self.depth_per_time_step = depth_per_time_step\n",
    "        self.n_input = int(np.log2(input_samples.shape[1]))\n",
    "        self.n_output = int(np.log2(input_samples.shape[1]))\n",
    "        assert input_samples.shape[0] == output_samples.shape[0], \"Input and output samples must have the same number of samples.\"\n",
    "        assert input_samples.shape[1] == output_samples.shape[1], \"Input and output samples must have the same number of features.\"\n",
    "        \n",
    "        self.n_ancilla = np.abs(self.n_output - self.n_input) + n_ancilla\n",
    "        self.num_wires = max(self.n_input, self.n_output) + self.n_ancilla # add ancilla qubits to approximate non-unitary evolution\n",
    "        \n",
    "        # Initialize parameters for the PQC\n",
    "        self.parameters = np.random.uniform(0, 2 * np.pi, \n",
    "                                            (num_time_steps, depth_per_time_step, self.num_wires, 2), \n",
    "                                            requires_grad=True)\n",
    "        \n",
    "        # Define the quantum device\n",
    "        self.dev = qml.device(\"lightning.qubit\", wires=self.num_wires + 1) # +1 for a qubit for swap-test\n",
    "        \n",
    "        # Define the quantum node\n",
    "        @qml.qnode(self.dev, interface='autograd')\n",
    "        def circuit(params, t, x):\n",
    "            qml.templates.MottonenStatePreparation(x, wires=self.sys_wires)\n",
    "            PQC(params, wires=range(self.num_wires), time_step_index=t, depth=self.depth_per_time_step)\n",
    "            \n",
    "        \n",
    "        self.circuit_per_time_step = circuit"
   ]
  },
  {
   "cell_type": "markdown",
   "id": "bf3f0763",
   "metadata": {},
   "source": []
  },
  {
   "cell_type": "code",
   "execution_count": null,
   "id": "a3642555",
   "metadata": {},
   "outputs": [],
   "source": []
  },
  {
   "cell_type": "code",
   "execution_count": null,
   "id": "bc792cb6",
   "metadata": {},
   "outputs": [],
   "source": []
  }
 ],
 "metadata": {
  "kernelspec": {
   "display_name": "QC",
   "language": "python",
   "name": "python3"
  },
  "language_info": {
   "codemirror_mode": {
    "name": "ipython",
    "version": 3
   },
   "file_extension": ".py",
   "mimetype": "text/x-python",
   "name": "python",
   "nbconvert_exporter": "python",
   "pygments_lexer": "ipython3",
   "version": "3.10.18"
  }
 },
 "nbformat": 4,
 "nbformat_minor": 5
}
