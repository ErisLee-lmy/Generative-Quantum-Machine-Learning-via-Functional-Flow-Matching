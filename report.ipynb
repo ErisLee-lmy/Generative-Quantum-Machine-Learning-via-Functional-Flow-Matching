{
 "cells": [
  {
   "cell_type": "code",
   "execution_count": 4,
   "id": "7f7aa12e",
   "metadata": {},
   "outputs": [
    {
     "data": {
      "image/png": "[encoded data removed]",
      "text/plain": [
       "<Figure size 600x400 with 1 Axes>"
      ]
     },
     "metadata": {},
     "output_type": "display_data"
    }
   ],
   "source": [
    "import matplotlib.pyplot as plt\n",
    "\n",
    "def draw_swap_test():\n",
    "    fig, ax = plt.subplots(figsize=(6, 4))\n",
    "\n",
    "    # 基础线路参数\n",
    "    y_positions = [2, 1, 0]  # ancilla, psi, phi\n",
    "    labels = [\"Ancilla |0⟩\", \"|ψ⟩\", \"|φ⟩\"]\n",
    "    x_max = 6\n",
    "\n",
    "    # 画水平线 (qubit wires)\n",
    "    for y, label in zip(y_positions, labels):\n",
    "        ax.hlines(y, 0, x_max, color=\"black\")\n",
    "        ax.text(-0.5, y, label, va=\"center\", ha=\"right\", fontsize=10)\n",
    "\n",
    "    # Step 1: H gate on ancilla\n",
    "    ax.add_patch(plt.Rectangle((0.5, 1.75), 0.5, 0.5, fill=True, color=\"lightblue\"))\n",
    "    ax.text(0.75, 2, \"H\", ha=\"center\", va=\"center\", fontsize=12)\n",
    "\n",
    "    # Step 2: Controlled-SWAP\n",
    "    x_cswap = 2.5\n",
    "    # control dot\n",
    "    ax.plot(x_cswap, 2, \"o\", color=\"black\")\n",
    "    ax.vlines(x_cswap, 0, 2, color=\"black\", linestyle=\"--\")\n",
    "    # swap symbols between psi and phi\n",
    "    ax.plot(x_cswap, 1, \"x\", color=\"red\", markersize=12, mew=2)\n",
    "    ax.plot(x_cswap, 0, \"x\", color=\"red\", markersize=12, mew=2)\n",
    "\n",
    "    # Step 3: H gate on ancilla again\n",
    "    ax.add_patch(plt.Rectangle((4.5, 1.75), 0.5, 0.5, fill=True, color=\"lightblue\"))\n",
    "    ax.text(4.75, 2, \"H\", ha=\"center\", va=\"center\", fontsize=12)\n",
    "\n",
    "    # Measurement on ancilla\n",
    "    ax.text(5.5, 2, \"M\", ha=\"center\", va=\"center\", fontsize=12, color=\"purple\")\n",
    "\n",
    "    # 清理外观\n",
    "    ax.set_xlim(0, x_max)\n",
    "    ax.set_ylim(-0.5, 2.5)\n",
    "    ax.axis(\"off\")\n",
    "    ax.set_title(\"SWAP-test Circuit\", fontsize=14)\n",
    "    plt.show()\n",
    "\n",
    "draw_swap_test()\n"
   ]
  },
  {
   "cell_type": "code",
   "execution_count": null,
   "id": "90683da8",
   "metadata": {},
   "outputs": [],
   "source": []
  }
 ],
 "metadata": {
  "kernelspec": {
   "display_name": "QC",
   "language": "python",
   "name": "python3"
  },
  "language_info": {
   "codemirror_mode": {
    "name": "ipython",
    "version": 3
   },
   "file_extension": ".py",
   "mimetype": "text/x-python",
   "name": "python",
   "nbconvert_exporter": "python",
   "pygments_lexer": "ipython3",
   "version": "3.10.18"
  }
 },
 "nbformat": 4,
 "nbformat_minor": 5
}
